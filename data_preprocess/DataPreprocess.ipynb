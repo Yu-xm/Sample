{
 "cells": [
  {
   "cell_type": "code",
   "execution_count": 1,
   "id": "6e8ee3c1",
   "metadata": {},
   "outputs": [],
   "source": [
    "import os\n",
    "import numpy as np\n",
    "import cv2\n",
    "import random\n",
    "import pandas as pd\n",
    "import shutil"
   ]
  },
  {
   "cell_type": "markdown",
   "id": "32115217-de0c-4bcc-b92b-ab3abab0cf9d",
   "metadata": {},
   "source": [
    "# 参数"
   ]
  },
  {
   "cell_type": "code",
   "execution_count": 2,
   "id": "f6e589a4-1112-42ba-82ad-0e2aadf35fad",
   "metadata": {},
   "outputs": [],
   "source": [
    "base_path = '../autodl-tmp'"
   ]
  },
  {
   "cell_type": "code",
   "execution_count": 3,
   "id": "e59c3e6a",
   "metadata": {},
   "outputs": [],
   "source": [
    "data_name = 'poli'\n",
    "# data_name = 'goss'"
   ]
  },
  {
   "cell_type": "code",
   "execution_count": 4,
   "id": "9d471321",
   "metadata": {},
   "outputs": [],
   "source": [
    "few_shot = 2\n",
    "# few_shot = 4\n",
    "# few_shot = 8\n",
    "# few_shot = 16\n",
    "# few_shot = 100"
   ]
  },
  {
   "cell_type": "code",
   "execution_count": 5,
   "id": "17220bb7-c607-4961-bc1d-1e37f552ba6b",
   "metadata": {},
   "outputs": [],
   "source": [
    "seed = 1\n",
    "# seed = 2\n",
    "# seed = 3\n",
    "# seed = 4\n",
    "# seed = 5"
   ]
  },
  {
   "cell_type": "markdown",
   "id": "fb7d9137-17fe-4f35-b908-b0d2185b8daf",
   "metadata": {},
   "source": [
    "# 创建文件夹"
   ]
  },
  {
   "cell_type": "code",
   "execution_count": 6,
   "id": "1fd936d6-d441-40db-a041-f59703718e16",
   "metadata": {},
   "outputs": [],
   "source": [
    "for shots in [2, 4, 8, 16, 100]:\n",
    "    for seeds in [1, 2, 3, 4, 5]:\n",
    "        for datasets in ['train', 'val', 'test']:\n",
    "    \n",
    "            if not os.path.exists('{0}/{1}/{2}shot/seed{3}/{4}/{5}_img'.format(base_path, data_name, shots, seeds, datasets, datasets)):\n",
    "                os.makedirs('{0}/{1}/{2}shot/seed{3}/{4}/{5}_img'.format(base_path, data_name, shots, seeds, datasets, datasets))"
   ]
  },
  {
   "cell_type": "markdown",
   "id": "7220f1eb-4360-4e16-9b0c-6ba284386ed6",
   "metadata": {},
   "source": [
    "# 按照标签将数据分为两类"
   ]
  },
  {
   "cell_type": "code",
   "execution_count": 7,
   "id": "52affe70-5349-4466-9fd2-d7d798f2ebcb",
   "metadata": {},
   "outputs": [
    {
     "name": "stdout",
     "output_type": "stream",
     "text": [
      "198\n"
     ]
    },
    {
     "data": {
      "text/html": [
       "<div>\n",
       "<style scoped>\n",
       "    .dataframe tbody tr th:only-of-type {\n",
       "        vertical-align: middle;\n",
       "    }\n",
       "\n",
       "    .dataframe tbody tr th {\n",
       "        vertical-align: top;\n",
       "    }\n",
       "\n",
       "    .dataframe thead th {\n",
       "        text-align: right;\n",
       "    }\n",
       "</style>\n",
       "<table border=\"1\" class=\"dataframe\">\n",
       "  <thead>\n",
       "    <tr style=\"text-align: right;\">\n",
       "      <th></th>\n",
       "      <th>clean_text</th>\n",
       "      <th>img_id</th>\n",
       "      <th>label</th>\n",
       "    </tr>\n",
       "  </thead>\n",
       "  <tbody>\n",
       "    <tr>\n",
       "      <th>0</th>\n",
       "      <td>everygame 0.0 rating get $750 in bonus funds o...</td>\n",
       "      <td>politifact15334</td>\n",
       "      <td>1</td>\n",
       "    </tr>\n",
       "    <tr>\n",
       "      <th>1</th>\n",
       "      <td>oops! it looks like the page you are looking f...</td>\n",
       "      <td>politifact14595</td>\n",
       "      <td>1</td>\n",
       "    </tr>\n",
       "    <tr>\n",
       "      <th>2</th>\n",
       "      <td>the bodybuilding community has long coveted th...</td>\n",
       "      <td>politifact13816</td>\n",
       "      <td>1</td>\n",
       "    </tr>\n",
       "    <tr>\n",
       "      <th>3</th>\n",
       "      <td>advertisement above  republican attacks on tra...</td>\n",
       "      <td>politifact11773</td>\n",
       "      <td>1</td>\n",
       "    </tr>\n",
       "    <tr>\n",
       "      <th>4</th>\n",
       "      <td>during a flight from new york city to chicago,...</td>\n",
       "      <td>politifact14005</td>\n",
       "      <td>1</td>\n",
       "    </tr>\n",
       "  </tbody>\n",
       "</table>\n",
       "</div>"
      ],
      "text/plain": [
       "                                          clean_text           img_id  label\n",
       "0  everygame 0.0 rating get $750 in bonus funds o...  politifact15334      1\n",
       "1  oops! it looks like the page you are looking f...  politifact14595      1\n",
       "2  the bodybuilding community has long coveted th...  politifact13816      1\n",
       "3  advertisement above  republican attacks on tra...  politifact11773      1\n",
       "4  during a flight from new york city to chicago,...  politifact14005      1"
      ]
     },
     "execution_count": 7,
     "metadata": {},
     "output_type": "execute_result"
    }
   ],
   "source": [
    "if data_name == 'poli':\n",
    "    data = pd.read_csv('{0}/politifact_multi.csv'.format(base_path))\n",
    "elif data_name == 'goss':\n",
    "    data = pd.read_csv('{0}/gossipcop_multi.csv'.format(base_path))\n",
    "else:\n",
    "    print('数据输入错误！')\n",
    "    \n",
    "data.drop(['idx'], inplace=True, axis=1)\n",
    "\n",
    "print(len(data))\n",
    "data.head()"
   ]
  },
  {
   "cell_type": "code",
   "execution_count": 8,
   "id": "ef3d5209-09e9-4a47-bd42-344aa41b4b75",
   "metadata": {},
   "outputs": [
    {
     "name": "stdout",
     "output_type": "stream",
     "text": [
      "102\n"
     ]
    },
    {
     "data": {
      "text/html": [
       "<div>\n",
       "<style scoped>\n",
       "    .dataframe tbody tr th:only-of-type {\n",
       "        vertical-align: middle;\n",
       "    }\n",
       "\n",
       "    .dataframe tbody tr th {\n",
       "        vertical-align: top;\n",
       "    }\n",
       "\n",
       "    .dataframe thead th {\n",
       "        text-align: right;\n",
       "    }\n",
       "</style>\n",
       "<table border=\"1\" class=\"dataframe\">\n",
       "  <thead>\n",
       "    <tr style=\"text-align: right;\">\n",
       "      <th></th>\n",
       "      <th>clean_text</th>\n",
       "      <th>img_id</th>\n",
       "      <th>label</th>\n",
       "    </tr>\n",
       "  </thead>\n",
       "  <tbody>\n",
       "    <tr>\n",
       "      <th>96</th>\n",
       "      <td>knox college  galesburg, illinois  12:13 p.m. ...</td>\n",
       "      <td>politifact8071</td>\n",
       "      <td>0</td>\n",
       "    </tr>\n",
       "    <tr>\n",
       "      <th>97</th>\n",
       "      <td>the recent massachusetts senate election capti...</td>\n",
       "      <td>politifact4275</td>\n",
       "      <td>0</td>\n",
       "    </tr>\n",
       "    <tr>\n",
       "      <th>98</th>\n",
       "      <td>u.s. rep. h. morgan griffith is milking his op...</td>\n",
       "      <td>politifact5237</td>\n",
       "      <td>0</td>\n",
       "    </tr>\n",
       "    <tr>\n",
       "      <th>99</th>\n",
       "      <td>aug 17, 2022  press release  e&amp;c leader wrote ...</td>\n",
       "      <td>politifact1063</td>\n",
       "      <td>0</td>\n",
       "    </tr>\n",
       "    <tr>\n",
       "      <th>100</th>\n",
       "      <td>knox college  galesburg, illinois  12:13 p.m. ...</td>\n",
       "      <td>politifact8069</td>\n",
       "      <td>0</td>\n",
       "    </tr>\n",
       "  </tbody>\n",
       "</table>\n",
       "</div>"
      ],
      "text/plain": [
       "                                            clean_text          img_id  label\n",
       "96   knox college  galesburg, illinois  12:13 p.m. ...  politifact8071      0\n",
       "97   the recent massachusetts senate election capti...  politifact4275      0\n",
       "98   u.s. rep. h. morgan griffith is milking his op...  politifact5237      0\n",
       "99   aug 17, 2022  press release  e&c leader wrote ...  politifact1063      0\n",
       "100  knox college  galesburg, illinois  12:13 p.m. ...  politifact8069      0"
      ]
     },
     "execution_count": 8,
     "metadata": {},
     "output_type": "execute_result"
    }
   ],
   "source": [
    "data_0 = data[data['label']==0]\n",
    "print(len(data_0))\n",
    "data_0.head()"
   ]
  },
  {
   "cell_type": "code",
   "execution_count": 9,
   "id": "bc23f12d-3453-47db-a08f-829aa44a614b",
   "metadata": {},
   "outputs": [
    {
     "name": "stdout",
     "output_type": "stream",
     "text": [
      "96\n"
     ]
    },
    {
     "data": {
      "text/html": [
       "<div>\n",
       "<style scoped>\n",
       "    .dataframe tbody tr th:only-of-type {\n",
       "        vertical-align: middle;\n",
       "    }\n",
       "\n",
       "    .dataframe tbody tr th {\n",
       "        vertical-align: top;\n",
       "    }\n",
       "\n",
       "    .dataframe thead th {\n",
       "        text-align: right;\n",
       "    }\n",
       "</style>\n",
       "<table border=\"1\" class=\"dataframe\">\n",
       "  <thead>\n",
       "    <tr style=\"text-align: right;\">\n",
       "      <th></th>\n",
       "      <th>clean_text</th>\n",
       "      <th>img_id</th>\n",
       "      <th>label</th>\n",
       "    </tr>\n",
       "  </thead>\n",
       "  <tbody>\n",
       "    <tr>\n",
       "      <th>0</th>\n",
       "      <td>everygame 0.0 rating get $750 in bonus funds o...</td>\n",
       "      <td>politifact15334</td>\n",
       "      <td>1</td>\n",
       "    </tr>\n",
       "    <tr>\n",
       "      <th>1</th>\n",
       "      <td>oops! it looks like the page you are looking f...</td>\n",
       "      <td>politifact14595</td>\n",
       "      <td>1</td>\n",
       "    </tr>\n",
       "    <tr>\n",
       "      <th>2</th>\n",
       "      <td>the bodybuilding community has long coveted th...</td>\n",
       "      <td>politifact13816</td>\n",
       "      <td>1</td>\n",
       "    </tr>\n",
       "    <tr>\n",
       "      <th>3</th>\n",
       "      <td>advertisement above  republican attacks on tra...</td>\n",
       "      <td>politifact11773</td>\n",
       "      <td>1</td>\n",
       "    </tr>\n",
       "    <tr>\n",
       "      <th>4</th>\n",
       "      <td>during a flight from new york city to chicago,...</td>\n",
       "      <td>politifact14005</td>\n",
       "      <td>1</td>\n",
       "    </tr>\n",
       "  </tbody>\n",
       "</table>\n",
       "</div>"
      ],
      "text/plain": [
       "                                          clean_text           img_id  label\n",
       "0  everygame 0.0 rating get $750 in bonus funds o...  politifact15334      1\n",
       "1  oops! it looks like the page you are looking f...  politifact14595      1\n",
       "2  the bodybuilding community has long coveted th...  politifact13816      1\n",
       "3  advertisement above  republican attacks on tra...  politifact11773      1\n",
       "4  during a flight from new york city to chicago,...  politifact14005      1"
      ]
     },
     "execution_count": 9,
     "metadata": {},
     "output_type": "execute_result"
    }
   ],
   "source": [
    "data_1 = data[data['label']==1]\n",
    "print(len(data_1))\n",
    "data_1.head()"
   ]
  },
  {
   "cell_type": "markdown",
   "id": "1a0be7ee-ef08-427b-ba18-49533e6ddaf4",
   "metadata": {},
   "source": [
    "# 划分 train、val 和 test"
   ]
  },
  {
   "cell_type": "markdown",
   "id": "36915138-1ca9-42ac-a7f9-5273a79ff497",
   "metadata": {},
   "source": [
    "固定seed，从两类数据中分别取 few_shot/2 个数据作为 train，剩下的数据作为 val 和 test，val 数量和 train 相同"
   ]
  },
  {
   "cell_type": "code",
   "execution_count": 10,
   "id": "b87754e3-c2e1-4a76-87c1-4769f72d9147",
   "metadata": {},
   "outputs": [
    {
     "data": {
      "text/plain": [
       "'\\n\\n\\n'"
      ]
     },
     "execution_count": 10,
     "metadata": {},
     "output_type": "execute_result"
    }
   ],
   "source": [
    "# few_shot = 2\n",
    "'''\n",
    "\n",
    "\n",
    "'''\n",
    "\n",
    "# few_shot = 4\n",
    "'''\n",
    "\n",
    "\n",
    "'''\n",
    "\n",
    "# few_shot = 8\n",
    "'''\n",
    "\n",
    "\n",
    "'''\n",
    "\n",
    "# few_shot = 16\n",
    "'''\n",
    "\n",
    "\n",
    "'''\n",
    "\n",
    "# few_shot = 100\n",
    "'''\n",
    "\n",
    "\n",
    "'''"
   ]
  },
  {
   "cell_type": "code",
   "execution_count": 11,
   "id": "9e00ffa0-d2c6-44cb-8a48-bb25e5af5575",
   "metadata": {},
   "outputs": [
    {
     "data": {
      "text/html": [
       "<div>\n",
       "<style scoped>\n",
       "    .dataframe tbody tr th:only-of-type {\n",
       "        vertical-align: middle;\n",
       "    }\n",
       "\n",
       "    .dataframe tbody tr th {\n",
       "        vertical-align: top;\n",
       "    }\n",
       "\n",
       "    .dataframe thead th {\n",
       "        text-align: right;\n",
       "    }\n",
       "</style>\n",
       "<table border=\"1\" class=\"dataframe\">\n",
       "  <thead>\n",
       "    <tr style=\"text-align: right;\">\n",
       "      <th></th>\n",
       "      <th>clean_text</th>\n",
       "      <th>img_id</th>\n",
       "      <th>label</th>\n",
       "    </tr>\n",
       "  </thead>\n",
       "  <tbody>\n",
       "    <tr>\n",
       "      <th>191</th>\n",
       "      <td>marco rubio portrayed fellow gop senator and p...</td>\n",
       "      <td>politifact11761</td>\n",
       "      <td>0</td>\n",
       "    </tr>\n",
       "    <tr>\n",
       "      <th>40</th>\n",
       "      <td>target ceo brian cornell announced today t...</td>\n",
       "      <td>politifact13775</td>\n",
       "      <td>1</td>\n",
       "    </tr>\n",
       "  </tbody>\n",
       "</table>\n",
       "</div>"
      ],
      "text/plain": [
       "                                            clean_text           img_id  label\n",
       "191  marco rubio portrayed fellow gop senator and p...  politifact11761      0\n",
       "40       target ceo brian cornell announced today t...  politifact13775      1"
      ]
     },
     "execution_count": 11,
     "metadata": {},
     "output_type": "execute_result"
    }
   ],
   "source": [
    "train = pd.concat([data_0.sample(n=int(few_shot/2), random_state=seed), data_1.sample(n=int(few_shot/2), random_state=seed)])\n",
    "train"
   ]
  },
  {
   "cell_type": "code",
   "execution_count": 12,
   "id": "c738f9c1-5a36-49b1-9ad4-50c3c6c6b9a4",
   "metadata": {},
   "outputs": [
    {
     "name": "stdout",
     "output_type": "stream",
     "text": [
      "196\n"
     ]
    },
    {
     "name": "stderr",
     "output_type": "stream",
     "text": [
      "/tmp/ipykernel_13711/3309032131.py:1: FutureWarning: In a future version of pandas all arguments of DataFrame.drop except for the argument 'labels' will be keyword-only.\n",
      "  data_left = pd.merge(data, train, how='left', indicator=True).query(\"_merge=='left_only'\").drop('_merge', 1).sample(frac=1., random_state=seed)\n"
     ]
    },
    {
     "data": {
      "text/html": [
       "<div>\n",
       "<style scoped>\n",
       "    .dataframe tbody tr th:only-of-type {\n",
       "        vertical-align: middle;\n",
       "    }\n",
       "\n",
       "    .dataframe tbody tr th {\n",
       "        vertical-align: top;\n",
       "    }\n",
       "\n",
       "    .dataframe thead th {\n",
       "        text-align: right;\n",
       "    }\n",
       "</style>\n",
       "<table border=\"1\" class=\"dataframe\">\n",
       "  <thead>\n",
       "    <tr style=\"text-align: right;\">\n",
       "      <th></th>\n",
       "      <th>clean_text</th>\n",
       "      <th>img_id</th>\n",
       "      <th>label</th>\n",
       "    </tr>\n",
       "  </thead>\n",
       "  <tbody>\n",
       "    <tr>\n",
       "      <th>128</th>\n",
       "      <td>in his press conference on march 11, 2011, pre...</td>\n",
       "      <td>politifact8838</td>\n",
       "      <td>0</td>\n",
       "    </tr>\n",
       "    <tr>\n",
       "      <th>11</th>\n",
       "      <td>the immediate former presidents have been more...</td>\n",
       "      <td>politifact15178</td>\n",
       "      <td>1</td>\n",
       "    </tr>\n",
       "    <tr>\n",
       "      <th>111</th>\n",
       "      <td>theres another choice  when it comes to electi...</td>\n",
       "      <td>politifact12924</td>\n",
       "      <td>0</td>\n",
       "    </tr>\n",
       "    <tr>\n",
       "      <th>125</th>\n",
       "      <td>april 25, 2010  -- tapper: good morning, every...</td>\n",
       "      <td>politifact1731</td>\n",
       "      <td>0</td>\n",
       "    </tr>\n",
       "    <tr>\n",
       "      <th>18</th>\n",
       "      <td>about trendolizer  trendolizer (patent pending...</td>\n",
       "      <td>politifact13544</td>\n",
       "      <td>1</td>\n",
       "    </tr>\n",
       "  </tbody>\n",
       "</table>\n",
       "</div>"
      ],
      "text/plain": [
       "                                            clean_text           img_id  label\n",
       "128  in his press conference on march 11, 2011, pre...   politifact8838      0\n",
       "11   the immediate former presidents have been more...  politifact15178      1\n",
       "111  theres another choice  when it comes to electi...  politifact12924      0\n",
       "125  april 25, 2010  -- tapper: good morning, every...   politifact1731      0\n",
       "18   about trendolizer  trendolizer (patent pending...  politifact13544      1"
      ]
     },
     "execution_count": 12,
     "metadata": {},
     "output_type": "execute_result"
    }
   ],
   "source": [
    "data_left = pd.merge(data, train, how='left', indicator=True).query(\"_merge=='left_only'\").drop('_merge', 1).sample(frac=1., random_state=seed)\n",
    "\n",
    "print(len(data_left))\n",
    "data_left.head()"
   ]
  },
  {
   "cell_type": "code",
   "execution_count": 13,
   "id": "cc989cf6-2749-4f5a-9dd4-c4f566e4104f",
   "metadata": {},
   "outputs": [
    {
     "name": "stdout",
     "output_type": "stream",
     "text": [
      "2\n"
     ]
    },
    {
     "data": {
      "text/html": [
       "<div>\n",
       "<style scoped>\n",
       "    .dataframe tbody tr th:only-of-type {\n",
       "        vertical-align: middle;\n",
       "    }\n",
       "\n",
       "    .dataframe tbody tr th {\n",
       "        vertical-align: top;\n",
       "    }\n",
       "\n",
       "    .dataframe thead th {\n",
       "        text-align: right;\n",
       "    }\n",
       "</style>\n",
       "<table border=\"1\" class=\"dataframe\">\n",
       "  <thead>\n",
       "    <tr style=\"text-align: right;\">\n",
       "      <th></th>\n",
       "      <th>clean_text</th>\n",
       "      <th>img_id</th>\n",
       "      <th>label</th>\n",
       "    </tr>\n",
       "  </thead>\n",
       "  <tbody>\n",
       "    <tr>\n",
       "      <th>128</th>\n",
       "      <td>in his press conference on march 11, 2011, pre...</td>\n",
       "      <td>politifact8838</td>\n",
       "      <td>0</td>\n",
       "    </tr>\n",
       "    <tr>\n",
       "      <th>11</th>\n",
       "      <td>the immediate former presidents have been more...</td>\n",
       "      <td>politifact15178</td>\n",
       "      <td>1</td>\n",
       "    </tr>\n",
       "  </tbody>\n",
       "</table>\n",
       "</div>"
      ],
      "text/plain": [
       "                                            clean_text           img_id  label\n",
       "128  in his press conference on march 11, 2011, pre...   politifact8838      0\n",
       "11   the immediate former presidents have been more...  politifact15178      1"
      ]
     },
     "execution_count": 13,
     "metadata": {},
     "output_type": "execute_result"
    }
   ],
   "source": [
    "val = data_left.iloc[:few_shot, :]\n",
    "\n",
    "print(len(val))\n",
    "val.head()"
   ]
  },
  {
   "cell_type": "code",
   "execution_count": 14,
   "id": "eae713ec-2305-41c2-bec7-f9681b035e9d",
   "metadata": {},
   "outputs": [
    {
     "name": "stdout",
     "output_type": "stream",
     "text": [
      "194\n"
     ]
    },
    {
     "data": {
      "text/html": [
       "<div>\n",
       "<style scoped>\n",
       "    .dataframe tbody tr th:only-of-type {\n",
       "        vertical-align: middle;\n",
       "    }\n",
       "\n",
       "    .dataframe tbody tr th {\n",
       "        vertical-align: top;\n",
       "    }\n",
       "\n",
       "    .dataframe thead th {\n",
       "        text-align: right;\n",
       "    }\n",
       "</style>\n",
       "<table border=\"1\" class=\"dataframe\">\n",
       "  <thead>\n",
       "    <tr style=\"text-align: right;\">\n",
       "      <th></th>\n",
       "      <th>clean_text</th>\n",
       "      <th>img_id</th>\n",
       "      <th>label</th>\n",
       "    </tr>\n",
       "  </thead>\n",
       "  <tbody>\n",
       "    <tr>\n",
       "      <th>111</th>\n",
       "      <td>theres another choice  when it comes to electi...</td>\n",
       "      <td>politifact12924</td>\n",
       "      <td>0</td>\n",
       "    </tr>\n",
       "    <tr>\n",
       "      <th>125</th>\n",
       "      <td>april 25, 2010  -- tapper: good morning, every...</td>\n",
       "      <td>politifact1731</td>\n",
       "      <td>0</td>\n",
       "    </tr>\n",
       "    <tr>\n",
       "      <th>18</th>\n",
       "      <td>about trendolizer  trendolizer (patent pending...</td>\n",
       "      <td>politifact13544</td>\n",
       "      <td>1</td>\n",
       "    </tr>\n",
       "    <tr>\n",
       "      <th>166</th>\n",
       "      <td>editor's note: this is part one of the transcr...</td>\n",
       "      <td>politifact304</td>\n",
       "      <td>0</td>\n",
       "    </tr>\n",
       "    <tr>\n",
       "      <th>45</th>\n",
       "      <td>london (cnn) britain's queen elizabeth ii has ...</td>\n",
       "      <td>politifact15370</td>\n",
       "      <td>1</td>\n",
       "    </tr>\n",
       "  </tbody>\n",
       "</table>\n",
       "</div>"
      ],
      "text/plain": [
       "                                            clean_text           img_id  label\n",
       "111  theres another choice  when it comes to electi...  politifact12924      0\n",
       "125  april 25, 2010  -- tapper: good morning, every...   politifact1731      0\n",
       "18   about trendolizer  trendolizer (patent pending...  politifact13544      1\n",
       "166  editor's note: this is part one of the transcr...    politifact304      0\n",
       "45   london (cnn) britain's queen elizabeth ii has ...  politifact15370      1"
      ]
     },
     "execution_count": 14,
     "metadata": {},
     "output_type": "execute_result"
    }
   ],
   "source": [
    "test = data_left.iloc[few_shot:, :]\n",
    "\n",
    "print(len(test))\n",
    "test.head()"
   ]
  },
  {
   "cell_type": "code",
   "execution_count": 15,
   "id": "8d55032f-256c-46b8-9de0-31f946f7c9bf",
   "metadata": {},
   "outputs": [
    {
     "name": "stdout",
     "output_type": "stream",
     "text": [
      "<--------- D O N E --------->\n"
     ]
    }
   ],
   "source": [
    "train.to_csv('{0}/{1}/{2}shot/seed{3}/train/train.csv'.format(base_path, data_name, few_shot, seed))\n",
    "val.to_csv('{0}/{1}/{2}shot/seed{3}/val/val.csv'.format(base_path, data_name, few_shot, seed))\n",
    "test.to_csv('{0}/{1}/{2}shot/seed{3}/test/test.csv'.format(base_path, data_name, few_shot, seed))\n",
    "\n",
    "print('<--------- D O N E --------->')"
   ]
  },
  {
   "cell_type": "markdown",
   "id": "103e0c4d",
   "metadata": {},
   "source": [
    "# 依照划分的训练集、验证集和测试集划分出对应的 csv 文件"
   ]
  },
  {
   "cell_type": "code",
   "execution_count": 16,
   "id": "93318be3",
   "metadata": {},
   "outputs": [],
   "source": [
    "# data_csv = pd.read_csv('../autodl-tmp/politifact_multi.csv')\n",
    "# # data_csv.loc[723, :]\n",
    "# # 'gossipcop-832300074' in data_csv['img_id'].values\n",
    "\n",
    "# len(img_name_ls), len(data_csv), len(data_csv) == len(img_name_train_ls) + len(img_name_dev_ls) + len(img_name_test_ls)"
   ]
  },
  {
   "cell_type": "code",
   "execution_count": 17,
   "id": "b44a9d95",
   "metadata": {},
   "outputs": [],
   "source": [
    "# flag = 0\n",
    "# df_train_index_ls = []\n",
    "# df_dev_index_ls = []\n",
    "# df_test_index_ls = []\n",
    "\n",
    "# for dataset in [img_name_train_ls, img_name_dev_ls, img_name_test_ls]:\n",
    "# #     print(len(dataset))\n",
    "#     flag = flag + 1 \n",
    "#     for img_name in dataset:\n",
    "#         img_id_str = img_name[:-4]\n",
    "        \n",
    "#         if img_id_str in data_csv['img_id'].values and flag == 1:\n",
    "#             df_train_index = data_csv[data_csv.img_id == img_id_str].index.tolist()[0]\n",
    "#             df_train_index_ls.append(df_train_index)\n",
    "            \n",
    "#         if img_id_str in data_csv['img_id'].values and flag == 2:\n",
    "#             df_dev_index = data_csv[data_csv.img_id == img_id_str].index.tolist()[0]\n",
    "#             df_dev_index_ls.append(df_dev_index)\n",
    "        \n",
    "#         if img_id_str in data_csv['img_id'].values and flag == 3:\n",
    "#             df_test_index = data_csv[data_csv.img_id == img_id_str].index.tolist()[0]  \n",
    "#             df_test_index_ls.append(df_test_index)\n",
    "\n",
    "# df_train = data_csv.loc[df_train_index_ls, :]\n",
    "# df_dev = data_csv.loc[df_dev_index_ls, :]\n",
    "# df_test = data_csv.loc[df_test_index_ls, :]\n",
    "\n",
    "# df_train.to_csv('../autodl-tmp/poli_csv/poli_train.csv')\n",
    "# df_dev.to_csv('../autodl-tmp/poli_csv/poli_dev.csv')\n",
    "# df_test.to_csv('../autodl-tmp/poli_csv/poli_test.csv')\n",
    "\n",
    "# print(' <----------- DONE -----------> ')\n",
    "\n",
    "# len(df_train), len(df_dev), len(df_test)\n",
    "# # df_train.head()"
   ]
  },
  {
   "cell_type": "markdown",
   "id": "e134be4b",
   "metadata": {},
   "source": [
    "# 将图片按照种类分开"
   ]
  },
  {
   "cell_type": "code",
   "execution_count": 19,
   "id": "74dbfd6d",
   "metadata": {},
   "outputs": [
    {
     "name": "stdout",
     "output_type": "stream",
     "text": [
      "train_len:  2\n",
      "dev_len:  2\n",
      "test_len:  194\n",
      " <----------- DONE -----------> \n"
     ]
    }
   ],
   "source": [
    "train_image_id_list = list(np.asarray(train['img_id']))\n",
    "val_image_id_list = list(np.asarray(val['img_id']))\n",
    "test_image_id_list = list(np.asarray(test['img_id']))\n",
    "# print(train_image_id_list)\n",
    "\n",
    "print('train_len: ', len(train_image_id_list))\n",
    "print('dev_len: ', len(val_image_id_list))\n",
    "print('test_len: ', len(test_image_id_list))\n",
    "\n",
    "image_ls = os.listdir(base_path + '/' + '{0}_img_all'.format(data_name))\n",
    "\n",
    "for image in image_ls:\n",
    "    image_id = image.replace('.jpg', '')\n",
    "    \n",
    "    try:\n",
    "        if image_id in train_image_id_list:\n",
    "            shutil.copy(base_path + '/' + '{0}_img_all'.format(data_name) + '/' + image,\n",
    "                        '{0}/{1}/{2}shot/seed{3}/train/train_img'.format(base_path, data_name, few_shot, seed))\n",
    "#             print('in trian!')\n",
    "\n",
    "        elif image_id in val_image_id_list:\n",
    "            shutil.copy(base_path + '/' + '{0}_img_all'.format(data_name) + '/' + image,\n",
    "                        '{0}/{1}/{2}shot/seed{3}/val/val_img'.format(base_path, data_name, few_shot, seed))\n",
    "            \n",
    "#             print('in val!')\n",
    "            \n",
    "        elif image_id in test_image_id_list:\n",
    "            shutil.copy(base_path + '/' + '{0}_img_all'.format(data_name) + '/' + image,\n",
    "                        '{0}/{1}/{2}shot/seed{3}/test/test_img'.format(base_path, data_name, few_shot, seed))\n",
    "        \n",
    "#             print('in test!')\n",
    "\n",
    "    \n",
    "    except:\n",
    "        \n",
    "        print('Wrong: ', image)\n",
    "        \n",
    "\n",
    "print(' <----------- DONE -----------> ')"
   ]
  },
  {
   "cell_type": "markdown",
   "id": "dcc42fe9",
   "metadata": {},
   "source": [
    "# 图片保存为 npy，调整大小为 （224， 224）"
   ]
  },
  {
   "cell_type": "code",
   "execution_count": 24,
   "id": "591145c5",
   "metadata": {},
   "outputs": [],
   "source": [
    "def save_npy(img_path, out_npy_path, type_npy):\n",
    "\n",
    "    img_ls = os.listdir(img_path)\n",
    "    \n",
    "    npy_ls = []\n",
    "    flag = 0\n",
    "\n",
    "    for img_id in img_ls:\n",
    "        img = cv2.imread(img_path + '/' + img_id)\n",
    "        try:\n",
    "            b, g , r = cv2.split(img)  # 分割出三个通道\n",
    "            img = cv2.merge([r, g ,b])\n",
    "            img=cv2.resize(img, (224,224), interpolation=cv2.INTER_CUBIC)\n",
    "            npy_ls.append(img)\n",
    "\n",
    "        except:\n",
    "    #         os.remove(img_path + img_name)\n",
    "            flag  = flag + 1\n",
    "\n",
    "    img_npy = np.array(npy_ls)\n",
    "    np.save(out_npy_path + '/' + type_npy + '.npy', img_npy)\n",
    "    print(flag)\n",
    "    print(' <-------- ', type_npy, 'DONE -------->')"
   ]
  },
  {
   "cell_type": "code",
   "execution_count": 25,
   "id": "ad662a5c",
   "metadata": {},
   "outputs": [
    {
     "name": "stdout",
     "output_type": "stream",
     "text": [
      "0\n",
      " <--------  train_img DONE -------->\n",
      "0\n",
      " <--------  val_img DONE -------->\n",
      "0\n",
      " <--------  test_img DONE -------->\n"
     ]
    }
   ],
   "source": [
    "train_img_path = '{0}/{1}/{2}shot/seed{3}/train/train_img'.format(base_path, data_name, few_shot, seed)\n",
    "val_img_path = '{0}/{1}/{2}shot/seed{3}/val/val_img'.format(base_path, data_name, few_shot, seed)\n",
    "test_img_path = '{0}/{1}/{2}shot/seed{3}/test/test_img'.format(base_path, data_name, few_shot, seed)\n",
    "\n",
    "train_out_npy_path = '{0}/{1}/{2}shot/seed{3}/train'.format(base_path, data_name, few_shot, seed)\n",
    "val_out_npy_path = '{0}/{1}/{2}shot/seed{3}/val'.format(base_path, data_name, few_shot, seed)\n",
    "test_out_npy_path = '{0}/{1}/{2}shot/seed{3}/test'.format(base_path, data_name, few_shot, seed)\n",
    " \n",
    "save_npy(train_img_path, train_out_npy_path, 'train_img')\n",
    "save_npy(val_img_path, val_out_npy_path, 'val_img')\n",
    "save_npy(test_img_path, test_out_npy_path, 'test_img')"
   ]
  },
  {
   "cell_type": "markdown",
   "id": "f7167562",
   "metadata": {},
   "source": [
    "# 读取 npy 测试一下"
   ]
  },
  {
   "cell_type": "code",
   "execution_count": 27,
   "id": "bb54bd73",
   "metadata": {},
   "outputs": [
    {
     "data": {
      "text/plain": [
       "((2, 224, 224, 3), (2, 224, 224, 3), (194, 224, 224, 3))"
      ]
     },
     "execution_count": 27,
     "metadata": {},
     "output_type": "execute_result"
    }
   ],
   "source": [
    "train_img_npy = np.load(train_out_npy_path + '/train_img.npy')\n",
    "val_img_npy = np.load(val_out_npy_path + '/val_img.npy')\n",
    "test_img_npy = np.load(test_out_npy_path + '/test_img.npy')\n",
    "\n",
    "train_img_npy.shape, val_img_npy.shape, test_img_npy.shape"
   ]
  }
 ],
 "metadata": {
  "kernelspec": {
   "display_name": "Python 3 (ipykernel)",
   "language": "python",
   "name": "python3"
  },
  "language_info": {
   "codemirror_mode": {
    "name": "ipython",
    "version": 3
   },
   "file_extension": ".py",
   "mimetype": "text/x-python",
   "name": "python",
   "nbconvert_exporter": "python",
   "pygments_lexer": "ipython3",
   "version": "3.8.10"
  }
 },
 "nbformat": 4,
 "nbformat_minor": 5
}
